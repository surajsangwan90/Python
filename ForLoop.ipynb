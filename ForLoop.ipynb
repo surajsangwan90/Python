{
 "cells": [
  {
   "cell_type": "code",
   "execution_count": 1,
   "metadata": {},
   "outputs": [
    {
     "name": "stdout",
     "output_type": "stream",
     "text": [
      "1\n",
      "2\n",
      "3\n",
      "4\n",
      "5\n",
      "6\n",
      "7\n",
      "8\n",
      "9\n",
      "10\n"
     ]
    }
   ],
   "source": [
    "# using list \n",
    "\n",
    "\n",
    "\n",
    "\n",
    "my_list=[1,2,3,4,5,6,7,8,9,10]\n",
    "for num in my_list:\n",
    "    print(num)"
   ]
  },
  {
   "cell_type": "code",
   "execution_count": 2,
   "metadata": {},
   "outputs": [
    {
     "name": "stdout",
     "output_type": "stream",
     "text": [
      "Hey!\n",
      "Hey!\n",
      "Hey!\n",
      "Hey!\n",
      "Hey!\n",
      "Hey!\n",
      "Hey!\n",
      "Hey!\n",
      "Hey!\n",
      "Hey!\n"
     ]
    }
   ],
   "source": [
    "my_list=[1,2,3,4,5,6,7,8,9,10]\n",
    "for num in my_list:\n",
    "    print('Hey!')"
   ]
  },
  {
   "cell_type": "code",
   "execution_count": 4,
   "metadata": {},
   "outputs": [
    {
     "name": "stdout",
     "output_type": "stream",
     "text": [
      "2\n",
      "4\n",
      "6\n",
      "8\n",
      "10\n"
     ]
    }
   ],
   "source": [
    "my_list=[1,2,3,4,5,6,7,8,9,10]\n",
    "for num in my_list:\n",
    "    #check for even number\n",
    "    if num % 2 ==0:\n",
    "        print(num)"
   ]
  },
  {
   "cell_type": "code",
   "execution_count": 5,
   "metadata": {},
   "outputs": [
    {
     "name": "stdout",
     "output_type": "stream",
     "text": [
      "1\n",
      "3\n",
      "5\n",
      "7\n",
      "9\n"
     ]
    }
   ],
   "source": [
    "my_list=[1,2,3,4,5,6,7,8,9,10]\n",
    "for num in my_list:\n",
    "    #check for odd number\n",
    "    if num % 2 ==1:\n",
    "        print(num)"
   ]
  },
  {
   "cell_type": "code",
   "execution_count": 9,
   "metadata": {},
   "outputs": [
    {
     "name": "stdout",
     "output_type": "stream",
     "text": [
      "Odd number is: 1\n",
      "2\n",
      "Odd number is: 3\n",
      "4\n",
      "Odd number is: 5\n",
      "6\n",
      "Odd number is: 7\n",
      "8\n",
      "Odd number is: 9\n",
      "10\n"
     ]
    }
   ],
   "source": [
    "my_list=[1,2,3,4,5,6,7,8,9,10]\n",
    "for num in my_list:\n",
    "    #check for even &odd number\n",
    "    if num % 2 ==0:\n",
    "        print(num)\n",
    "    else:\n",
    "        print(f'Odd number is: {num}')"
   ]
  },
  {
   "cell_type": "code",
   "execution_count": 10,
   "metadata": {},
   "outputs": [
    {
     "name": "stdout",
     "output_type": "stream",
     "text": [
      "Odd number is: 1\n",
      "2\n",
      "Odd number is: 3\n",
      "4\n",
      "Odd number is: 5\n",
      "6\n",
      "Odd number is: 7\n",
      "8\n",
      "Odd number is: 9\n",
      "10\n"
     ]
    }
   ],
   "source": [
    "my_list=[1,2,3,4,5,6,7,8,9,10]\n",
    "for num in my_list:\n",
    "    #check for even &odd number\n",
    "    if num % 2 ==0:\n",
    "        print(num)\n",
    "    else:\n",
    "        print('Odd number is: {}'.format(num))"
   ]
  },
  {
   "cell_type": "code",
   "execution_count": null,
   "metadata": {},
   "outputs": [],
   "source": [
    "# use of with and without indentation( whitespace) . {indentation means inside the loop}"
   ]
  },
  {
   "cell_type": "code",
   "execution_count": 13,
   "metadata": {},
   "outputs": [
    {
     "name": "stdout",
     "output_type": "stream",
     "text": [
      "55\n"
     ]
    }
   ],
   "source": [
    "my_list=[1,2,3,4,5,6,7,8,9,10]\n",
    "listsum=0\n",
    "for num in my_list:\n",
    "    listsum=listsum+num\n",
    "print(listsum)"
   ]
  },
  {
   "cell_type": "code",
   "execution_count": 20,
   "metadata": {},
   "outputs": [
    {
     "name": "stdout",
     "output_type": "stream",
     "text": [
      "1\n",
      "3\n",
      "6\n",
      "10\n",
      "15\n",
      "21\n",
      "28\n",
      "36\n",
      "45\n",
      "55\n"
     ]
    }
   ],
   "source": [
    "my_list=[1,2,3,4,5,6,7,8,9,10]\n",
    "listsum=0\n",
    "for num in my_list:\n",
    "    listsum=listsum+num\n",
    "    print(listsum)"
   ]
  },
  {
   "cell_type": "code",
   "execution_count": null,
   "metadata": {},
   "outputs": [],
   "source": [
    "# Using string"
   ]
  },
  {
   "cell_type": "code",
   "execution_count": 23,
   "metadata": {},
   "outputs": [
    {
     "name": "stdout",
     "output_type": "stream",
     "text": [
      "H\n",
      "e\n",
      "l\n",
      "l\n",
      "o\n",
      " \n",
      "J\n",
      "a\n",
      "s\n",
      "s\n"
     ]
    }
   ],
   "source": [
    "mystring=\"Hello Jass\"\n",
    "for char in mystring:\n",
    "    print(char)"
   ]
  },
  {
   "cell_type": "code",
   "execution_count": 24,
   "metadata": {},
   "outputs": [
    {
     "name": "stdout",
     "output_type": "stream",
     "text": [
      "h\n",
      "e\n",
      "l\n",
      "l\n",
      "o\n",
      " \n",
      "h\n",
      "o\n",
      "w\n",
      " \n",
      "a\n",
      "r\n",
      "e\n",
      " \n",
      "y\n",
      "o\n",
      "u\n"
     ]
    }
   ],
   "source": [
    "for letter in \"hello how are you\":\n",
    "    print(letter)\n"
   ]
  },
  {
   "cell_type": "code",
   "execution_count": 25,
   "metadata": {},
   "outputs": [
    {
     "name": "stdout",
     "output_type": "stream",
     "text": [
      "1\n",
      "2\n",
      "3\n",
      "4\n"
     ]
    }
   ],
   "source": [
    "for letter in [1,2,3,4]:\n",
    "    print(letter)\n"
   ]
  },
  {
   "cell_type": "code",
   "execution_count": null,
   "metadata": {},
   "outputs": [],
   "source": [
    "# using tuples"
   ]
  },
  {
   "cell_type": "code",
   "execution_count": 26,
   "metadata": {},
   "outputs": [
    {
     "name": "stdout",
     "output_type": "stream",
     "text": [
      "1\n",
      "2\n",
      "3\n"
     ]
    }
   ],
   "source": [
    "tup=(1,2,3)\n",
    "for _ in tup:\n",
    "    print(_)"
   ]
  },
  {
   "cell_type": "code",
   "execution_count": 27,
   "metadata": {},
   "outputs": [
    {
     "data": {
      "text/plain": [
       "3"
      ]
     },
     "execution_count": 27,
     "metadata": {},
     "output_type": "execute_result"
    }
   ],
   "source": [
    "mylist=[(1,2),(2,3),(3,4)]\n",
    "len(mylist)"
   ]
  },
  {
   "cell_type": "code",
   "execution_count": 30,
   "metadata": {},
   "outputs": [
    {
     "name": "stdout",
     "output_type": "stream",
     "text": [
      "(1, 2)\n",
      "(2, 3)\n",
      "(3, 4)\n"
     ]
    }
   ],
   "source": [
    "for _ in mylist:\n",
    "    print(_)"
   ]
  },
  {
   "cell_type": "code",
   "execution_count": 31,
   "metadata": {},
   "outputs": [
    {
     "name": "stdout",
     "output_type": "stream",
     "text": [
      "1\n",
      "2\n",
      "2\n",
      "3\n",
      "3\n",
      "4\n"
     ]
    }
   ],
   "source": [
    "for (a,b) in mylist:\n",
    "    print(a)\n",
    "    print(b)"
   ]
  },
  {
   "cell_type": "code",
   "execution_count": null,
   "metadata": {},
   "outputs": [],
   "source": [
    "# using Dictionary"
   ]
  },
  {
   "cell_type": "code",
   "execution_count": 32,
   "metadata": {},
   "outputs": [
    {
     "name": "stdout",
     "output_type": "stream",
     "text": [
      "k1\n",
      "k2\n",
      "k3\n"
     ]
    }
   ],
   "source": [
    "dic={'k1':1,'k2':2,'k3':3}\n",
    "for item in dic:\n",
    "    print(item)"
   ]
  },
  {
   "cell_type": "code",
   "execution_count": 34,
   "metadata": {},
   "outputs": [
    {
     "name": "stdout",
     "output_type": "stream",
     "text": [
      "('k1', 1)\n",
      "('k2', 2)\n",
      "('k3', 3)\n"
     ]
    }
   ],
   "source": [
    "dic={'k1':1,'k2':2,'k3':3}\n",
    "for item in dic.items():\n",
    "    print(item)"
   ]
  },
  {
   "cell_type": "code",
   "execution_count": 40,
   "metadata": {},
   "outputs": [
    {
     "name": "stdout",
     "output_type": "stream",
     "text": [
      "k\n",
      "k\n",
      "k\n"
     ]
    }
   ],
   "source": [
    "dic={'k1':1,'k2':2,'k3':3}\n",
    "for key,value in dic:\n",
    "    print(key)"
   ]
  },
  {
   "cell_type": "code",
   "execution_count": 41,
   "metadata": {},
   "outputs": [
    {
     "name": "stdout",
     "output_type": "stream",
     "text": [
      "k1\n",
      "k2\n",
      "k3\n"
     ]
    }
   ],
   "source": [
    "dic={'k1':1,'k2':2,'k3':3}\n",
    "for key,value in dic.items():\n",
    "    print(key)"
   ]
  },
  {
   "cell_type": "code",
   "execution_count": 42,
   "metadata": {},
   "outputs": [
    {
     "name": "stdout",
     "output_type": "stream",
     "text": [
      "1\n",
      "2\n",
      "3\n"
     ]
    }
   ],
   "source": [
    "dic={'k1':1,'k2':2,'k3':3}\n",
    "for key,value in dic.items():\n",
    "    print(value)"
   ]
  },
  {
   "cell_type": "code",
   "execution_count": null,
   "metadata": {},
   "outputs": [],
   "source": []
  }
 ],
 "metadata": {
  "kernelspec": {
   "display_name": "Python 3",
   "language": "python",
   "name": "python3"
  },
  "language_info": {
   "codemirror_mode": {
    "name": "ipython",
    "version": 3
   },
   "file_extension": ".py",
   "mimetype": "text/x-python",
   "name": "python",
   "nbconvert_exporter": "python",
   "pygments_lexer": "ipython3",
   "version": "3.8.5"
  }
 },
 "nbformat": 4,
 "nbformat_minor": 4
}
