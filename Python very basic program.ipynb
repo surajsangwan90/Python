{
 "cells": [
  {
   "cell_type": "code",
   "execution_count": 14,
   "id": "2aab9939",
   "metadata": {},
   "outputs": [
    {
     "name": "stdout",
     "output_type": "stream",
     "text": [
      " Total marks of all 5 subjects are: 323\n",
      " Total percentage is :% 64.6\n"
     ]
    }
   ],
   "source": [
    "#1. Enter marks of 5 Subjects(hindi,eng,math,sci,sst) print total and percentage.\n",
    "Hindi=67\n",
    "English=52\n",
    "Math=70\n",
    "Science=62\n",
    "SST= 72\n",
    "total=(Hindi+English+Math+Science+SST)\n",
    "percentage=total/5\n",
    "\n",
    "print(\" Total marks of all 5 subjects are:\", total)\n",
    "print(\" Total percentage is :%\",percentage)"
   ]
  },
  {
   "cell_type": "code",
   "execution_count": 13,
   "id": "b8b24a78",
   "metadata": {},
   "outputs": [
    {
     "name": "stdout",
     "output_type": "stream",
     "text": [
      " Amount with interest is:  34500.0\n",
      " Simple interest is:  66000.0\n"
     ]
    }
   ],
   "source": [
    "#Enter Principle, Rate, Time print simple interest, amount with interest\n",
    "principle= 30000\n",
    "rate= 15/100\n",
    "time= 8\n",
    "Amount=principle+principle*rate\n",
    "Amount\n",
    "simple_interest=principle+principle*rate*time\n",
    "print(\" Amount with interest is: \",Amount)\n",
    "print(\" Simple interest is: \",simple_interest)"
   ]
  },
  {
   "cell_type": "code",
   "execution_count": 18,
   "id": "bdee758f",
   "metadata": {},
   "outputs": [
    {
     "name": "stdout",
     "output_type": "stream",
     "text": [
      "45\n",
      "23\n"
     ]
    }
   ],
   "source": [
    "#Enter 2 Nos print there value after swap :: use third variable\n",
    "num1= 23\n",
    "num2= 45\n",
    "num3=num1\n",
    "num1=num2\n",
    "num2=num3\n",
    "print(num1)\n",
    "print(num2)"
   ]
  },
  {
   "cell_type": "code",
   "execution_count": 25,
   "id": "16321137",
   "metadata": {},
   "outputs": [
    {
     "name": "stdout",
     "output_type": "stream",
     "text": [
      "New value of x is:  10\n",
      "New value of y is:  5\n"
     ]
    }
   ],
   "source": [
    "#Enter 2 Nos print there value after swap :: without using third variable\n",
    "x = 5\n",
    "y = 10\n",
    "\n",
    "x, y = y, x\n",
    "print(\"New value of x is: \",x)\n",
    "print(\"New value of y is: \", y)"
   ]
  },
  {
   "cell_type": "code",
   "execution_count": 27,
   "id": "29dcbec4",
   "metadata": {},
   "outputs": [
    {
     "name": "stdout",
     "output_type": "stream",
     "text": [
      "New value of x is:  10\n",
      "New value of y is:  5\n"
     ]
    }
   ],
   "source": [
    "#Enter 2 Nos print there value after swap :: without using third variable\n",
    "x=5\n",
    "y=10\n",
    "x = x + y\n",
    "y = x - y\n",
    "x = x - y\n",
    "print(\"New value of x is: \",x)\n",
    "print(\"New value of y is: \", y)"
   ]
  },
  {
   "cell_type": "code",
   "execution_count": 31,
   "id": "167a17d8",
   "metadata": {},
   "outputs": [
    {
     "name": "stdout",
     "output_type": "stream",
     "text": [
      "New value of x is:  10\n",
      "New value of y is:  5\n"
     ]
    }
   ],
   "source": [
    "#Enter 2 Nos print there value after swap :: without using third variable\n",
    "x=5\n",
    "y=10\n",
    "x = int(x * y)\n",
    "y = int(x / y)\n",
    "x = int(x / y)\n",
    "print(\"New value of x is: \",x)\n",
    "print(\"New value of y is: \", y)"
   ]
  },
  {
   "cell_type": "code",
   "execution_count": 36,
   "id": "9779c0e8",
   "metadata": {},
   "outputs": [
    {
     "name": "stdout",
     "output_type": "stream",
     "text": [
      "Net Salary is = 22500.0\n"
     ]
    }
   ],
   "source": [
    "#Input basic salary of employee , Calculate 40% HRA, 10% DA, 5 GPF, Print Net Salary\n",
    "Basic_salary= 15000\n",
    "HRA=40/100*Basic_salary\n",
    "DA=10/100*Basic_salary\n",
    "GPF=5/100*Basic_salary\n",
    "Gross_Salary=Basic_salary+HRA+DA+GPF\n",
    "Net_salary=Gross_Salary-GPF\n",
    "Gross_Salary\n",
    "print(\"Net Salary is =\", Net_salary)"
   ]
  },
  {
   "cell_type": "code",
   "execution_count": 43,
   "id": "8a89474d",
   "metadata": {},
   "outputs": [
    {
     "data": {
      "text/plain": [
       "30"
      ]
     },
     "execution_count": 43,
     "metadata": {},
     "output_type": "execute_result"
    }
   ],
   "source": [
    "#Input 4 digit number calculate sum of its digits\n",
    "num='9876'\n",
    "a=int(num[0])\n",
    "b=int(num[1])\n",
    "c=int(num[2])\n",
    "d=int(num[3])\n",
    "total=a+b+c+d\n",
    "total"
   ]
  },
  {
   "cell_type": "code",
   "execution_count": 8,
   "id": "f0ba08bd",
   "metadata": {},
   "outputs": [
    {
     "name": "stdout",
     "output_type": "stream",
     "text": [
      "enter 4 Digit Number4567\n",
      "Total of digits  22\n"
     ]
    }
   ],
   "source": [
    "#Input 4 digit number calculate sum of its digits\n",
    "num=int(input(\"enter 4 Digit Number\")) #4567\n",
    "total=0               #0\n",
    "total=total+num%10    #7\n",
    "num=num//10           #456\n",
    "total=total+num%10    #13\n",
    "num=num//10           #45\n",
    "total=total+num%10    #18\n",
    "num=num//10           #4\n",
    "total=total+num%10    #22\n",
    "print(\"Total of digits \", total)"
   ]
  },
  {
   "cell_type": "code",
   "execution_count": 44,
   "id": "6fd84a93",
   "metadata": {},
   "outputs": [],
   "source": [
    "# Input 4 Digit number print Reverse of its digits"
   ]
  },
  {
   "cell_type": "code",
   "execution_count": 52,
   "id": "03879160",
   "metadata": {},
   "outputs": [
    {
     "name": "stdout",
     "output_type": "stream",
     "text": [
      " New reverse number is:  6789\n"
     ]
    }
   ],
   "source": [
    "num=9876\n",
    "num1=str(num)\n",
    "a=num1[3]\n",
    "b=num1[2]\n",
    "c=num1[1]\n",
    "d=num1[0]\n",
    "Sum=a+b+c+d\n",
    "num=Sum\n",
    "print(\" New reverse number is: \", num)"
   ]
  },
  {
   "cell_type": "code",
   "execution_count": 9,
   "id": "39a60b4d",
   "metadata": {},
   "outputs": [
    {
     "name": "stdout",
     "output_type": "stream",
     "text": [
      "enter 4 Digit Number4567\n",
      "Reverse of digits number is  7654\n"
     ]
    }
   ],
   "source": [
    "# Input 4 Digit number print Reverse of its digits\n",
    "num=int(input(\"enter 4 Digit Number\"))\n",
    "rev=0\n",
    "rev=rev*10+num%10     #7\n",
    "num=num//10           #456\n",
    "rev=rev*10+num%10     #76\n",
    "num=num//10           #45\n",
    "rev=rev*10+num%10     #765\n",
    "num=num//10           #4\n",
    "rev=rev*10+num%10     #7654\n",
    "num=num//10 \n",
    "print(\"Reverse of digits number is \", rev)"
   ]
  },
  {
   "cell_type": "code",
   "execution_count": 68,
   "id": "4e420367",
   "metadata": {},
   "outputs": [
    {
     "name": "stdout",
     "output_type": "stream",
     "text": [
      "Enter a amount in multiply of 5: 5\n"
     ]
    },
    {
     "data": {
      "text/plain": [
       "365.271"
      ]
     },
     "execution_count": 68,
     "metadata": {},
     "output_type": "execute_result"
    }
   ],
   "source": [
    "#. Input Premium of RD print Maturity : criteria Min Premium is 5 Rs /- Month for 5 Years Maturity is 365.27 \n",
    "premium=float(input(\"Enter a amount in multiply of 5: \"))\n",
    "time=float(60)\n",
    "maturity=(float(premium*time*1.21757))\n",
    "maturity\n",
    "\n"
   ]
  },
  {
   "cell_type": "code",
   "execution_count": 5,
   "id": "83ec7d7d",
   "metadata": {},
   "outputs": [
    {
     "name": "stdout",
     "output_type": "stream",
     "text": [
      "enter amount14\n",
      "maturity =  728.54\n"
     ]
    }
   ],
   "source": [
    "amount=int(input(\"enter amount\"))\n",
    "fives=amount//5\n",
    "maturity=fives*364.27\n",
    "print(\"maturity = \",maturity) "
   ]
  },
  {
   "cell_type": "code",
   "execution_count": null,
   "id": "296578f3",
   "metadata": {},
   "outputs": [],
   "source": []
  }
 ],
 "metadata": {
  "kernelspec": {
   "display_name": "Python 3",
   "language": "python",
   "name": "python3"
  },
  "language_info": {
   "codemirror_mode": {
    "name": "ipython",
    "version": 3
   },
   "file_extension": ".py",
   "mimetype": "text/x-python",
   "name": "python",
   "nbconvert_exporter": "python",
   "pygments_lexer": "ipython3",
   "version": "3.8.8"
  }
 },
 "nbformat": 4,
 "nbformat_minor": 5
}
