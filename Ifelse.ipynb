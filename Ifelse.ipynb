{
 "cells": [
  {
   "cell_type": "code",
   "execution_count": 2,
   "metadata": {},
   "outputs": [
    {
     "name": "stdout",
     "output_type": "stream",
     "text": [
      "I do not know much.\n"
     ]
    }
   ],
   "source": [
    "loc = 'Bank'\n",
    "if loc=='Auto shop':\n",
    "    print(\"cars are cool!\")\n",
    "else:\n",
    "    print(\"I do not know much.\")"
   ]
  },
  {
   "cell_type": "code",
   "execution_count": 3,
   "metadata": {},
   "outputs": [
    {
     "name": "stdout",
     "output_type": "stream",
     "text": [
      "Bank is Open today!\n"
     ]
    }
   ],
   "source": [
    "loc = 'Bank'\n",
    "if loc=='Auto shop':\n",
    "    print(\"cars are cool!\")\n",
    "elif loc=='Bank':\n",
    "    print('Bank is Open today!')\n",
    "elif loc=='Store':\n",
    "    print('you can shop online')\n",
    "else:\n",
    "    print(\"I do not know much.\")"
   ]
  },
  {
   "cell_type": "code",
   "execution_count": 4,
   "metadata": {},
   "outputs": [
    {
     "name": "stdout",
     "output_type": "stream",
     "text": [
      "cars are cool!\n"
     ]
    }
   ],
   "source": [
    "loc = 'Auto shop'\n",
    "if loc=='Auto shop':\n",
    "    print(\"cars are cool!\")\n",
    "elif loc=='Bank':\n",
    "    print('Bank is Open today!')\n",
    "elif loc=='Store':\n",
    "    print('you can shop online')\n",
    "else:\n",
    "    print(\"I do not know much.\")"
   ]
  },
  {
   "cell_type": "code",
   "execution_count": 5,
   "metadata": {},
   "outputs": [
    {
     "name": "stdout",
     "output_type": "stream",
     "text": [
      "you can shop online\n"
     ]
    }
   ],
   "source": [
    "loc = 'Store'\n",
    "if loc=='Auto shop':\n",
    "    print(\"cars are cool!\")\n",
    "elif loc=='Bank':\n",
    "    print('Bank is Open today!')\n",
    "elif loc=='Store':\n",
    "    print('you can shop online')\n",
    "else:\n",
    "    print(\"I do not know much.\")"
   ]
  },
  {
   "cell_type": "code",
   "execution_count": 10,
   "metadata": {},
   "outputs": [
    {
     "name": "stdout",
     "output_type": "stream",
     "text": [
      "Hello Hum Vidhayak Har me se hai!\n"
     ]
    }
   ],
   "source": [
    "name= 'Ashish'\n",
    "if name=='Akhilesh':\n",
    "    print(\"Hello Mote!\")\n",
    "elif name=='Prashant':\n",
    "    print(\"Hello Prashant bhai!\")\n",
    "elif name=='Ashish':\n",
    "    print(\"Hello Hum Vidhayak Har me se hai!\")\n",
    "else:\n",
    "    print('What is your name!')\n"
   ]
  },
  {
   "cell_type": "code",
   "execution_count": null,
   "metadata": {},
   "outputs": [],
   "source": []
  }
 ],
 "metadata": {
  "kernelspec": {
   "display_name": "Python 3",
   "language": "python",
   "name": "python3"
  },
  "language_info": {
   "codemirror_mode": {
    "name": "ipython",
    "version": 3
   },
   "file_extension": ".py",
   "mimetype": "text/x-python",
   "name": "python",
   "nbconvert_exporter": "python",
   "pygments_lexer": "ipython3",
   "version": "3.8.5"
  }
 },
 "nbformat": 4,
 "nbformat_minor": 4
}
