{
 "cells": [
  {
   "cell_type": "code",
   "execution_count": null,
   "metadata": {},
   "outputs": [],
   "source": [
    "# while loop programs\n"
   ]
  },
  {
   "cell_type": "code",
   "execution_count": 3,
   "metadata": {},
   "outputs": [
    {
     "name": "stdout",
     "output_type": "stream",
     "text": [
      "The current value of a is 0\n",
      "The current value of a is 1\n",
      "The current value of a is 2\n",
      "The current value of a is 3\n",
      "The current value of a is 4\n",
      "The current value of a is 5\n",
      "The current value of a is 6\n",
      "The current value of a is 7\n",
      "The current value of a is 8\n",
      "The current value of a is 9\n"
     ]
    }
   ],
   "source": [
    "a=0\n",
    "while a>10:\n",
    "    print(f'The current value of a is {a}')\n",
    "    a+=1\n"
   ]
  },
  {
   "cell_type": "code",
   "execution_count": 5,
   "metadata": {},
   "outputs": [
    {
     "name": "stdout",
     "output_type": "stream",
     "text": [
      "The current value of a is 0\n",
      "The current value of a is 1\n",
      "The current value of a is 2\n",
      "The current value of a is 3\n",
      "The current value of a is 4\n",
      "The current value of a is 5\n",
      "The current value of a is 6\n",
      "The current value of a is 7\n",
      "The current value of a is 8\n",
      "The current value of a is 9\n",
      "a is not greater than 10 \n"
     ]
    }
   ],
   "source": [
    "a=0\n",
    "while a<10:\n",
    "    print(f'The current value of a is {a}')\n",
    "    a+=1\n",
    "else:\n",
    "    print(\"a is not greater than 10 \")"
   ]
  },
  {
   "cell_type": "code",
   "execution_count": null,
   "metadata": {},
   "outputs": [],
   "source": []
  }
 ],
 "metadata": {
  "kernelspec": {
   "display_name": "Python 3",
   "language": "python",
   "name": "python3"
  },
  "language_info": {
   "codemirror_mode": {
    "name": "ipython",
    "version": 3
   },
   "file_extension": ".py",
   "mimetype": "text/x-python",
   "name": "python",
   "nbconvert_exporter": "python",
   "pygments_lexer": "ipython3",
   "version": "3.8.5"
  }
 },
 "nbformat": 4,
 "nbformat_minor": 4
}
